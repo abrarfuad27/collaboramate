{
 "cells":[
  {
   "cell_type":"code",
   "source":[
    "import csv\n",
    "import random\n",
    "import pandas as pd\n",
    "import re\n",
    "import numpy as np\n",
    "import nltk\n",
    "from nltk.tokenize import word_tokenize\n",
    "from nltk.corpus import stopwords"
   ],
   "execution_count":2,
   "outputs":[
    
   ],
   "metadata":{
    "datalore":{
     "node_id":"FuDXGiq6zd4J1EfWD9b7go",
     "type":"CODE",
     "hide_input_from_viewers":false,
     "hide_output_from_viewers":true,
     "report_properties":{
      "rowId":"pXIjVtmBR51MYFbmwhpEAl",
      "relativeY":0
     }
    }
   }
  },
  {
   "cell_type":"code",
   "source":[
    "!pip install nltk"
   ],
   "execution_count":1,
   "outputs":[
    {
     "name":"stdout",
     "text":[
      "Collecting nltk\r\n",
      "  Downloading nltk-3.8.1-py3-none-any.whl (1.5 MB)\r\n",
      "\u001b[?25l     \u001b[90m━━━━━━━━━━━━━━━━━━━━━━━━━━━━━━━━━━━━━━━━\u001b[0m \u001b[32m0.0\/1.5 MB\u001b[0m \u001b[31m?\u001b[0m eta \u001b[36m-:--:--\u001b[0m\r\u001b[2K     \u001b[91m━━━━━━━━━━━━━━━━━━━━━━━━━━━━━━━━━━\u001b[0m\u001b[90m╺\u001b[0m\u001b[90m━━━━━\u001b[0m \u001b[32m1.3\/1.5 MB\u001b[0m \u001b[31m38.0 MB\/s\u001b[0m eta \u001b[36m0:00:01\u001b[0m\r\u001b[2K     \u001b[90m━━━━━━━━━━━━━━━━━━━━━━━━━━━━━━━━━━━━━━━━\u001b[0m \u001b[32m1.5\/1.5 MB\u001b[0m \u001b[31m25.0 MB\/s\u001b[0m eta \u001b[36m0:00:00\u001b[0m\r\n",
      "\u001b[?25hRequirement already satisfied: click in \/opt\/python\/envs\/default\/lib\/python3.8\/site-packages (from nltk) (8.1.7)\r\n",
      "Requirement already satisfied: joblib in \/opt\/python\/envs\/default\/lib\/python3.8\/site-packages (from nltk) (1.3.2)\r\n",
      "Requirement already satisfied: regex>=2021.8.3 in \/opt\/python\/envs\/default\/lib\/python3.8\/site-packages (from nltk) (2023.8.8)\r\n",
      "Requirement already satisfied: tqdm in \/opt\/python\/envs\/default\/lib\/python3.8\/site-packages (from nltk) (4.66.1)\r\n",
      "Installing collected packages: nltk\r\n",
      "Successfully installed nltk-3.8.1\r\n",
      "\r\n",
      "\u001b[1m[\u001b[0m\u001b[34;49mnotice\u001b[0m\u001b[1;39;49m]\u001b[0m\u001b[39;49m A new release of pip is available: \u001b[0m\u001b[31;49m23.1.2\u001b[0m\u001b[39;49m -> \u001b[0m\u001b[32;49m23.2.1\u001b[0m\r\n",
      "\u001b[1m[\u001b[0m\u001b[34;49mnotice\u001b[0m\u001b[1;39;49m]\u001b[0m\u001b[39;49m To update, run: \u001b[0m\u001b[32;49mpip install --upgrade pip\u001b[0m\r\n"
     ],
     "output_type":"stream"
    }
   ],
   "metadata":{
    "datalore":{
     "node_id":"MzvX5vHm2HexJX9OTAJr6K",
     "type":"CODE",
     "hide_input_from_viewers":false,
     "hide_output_from_viewers":true,
     "report_properties":{
      "rowId":"9Ratd3wJ8RKlehxHWLIODh",
      "relativeY":0
     }
    }
   }
  },
  {
   "cell_type":"code",
   "source":[
    "df = pd.read_csv('\/data\/notebook_files\/ConcordiaChat_ulfiltered.csv')"
   ],
   "execution_count":3,
   "outputs":[
    
   ],
   "metadata":{
    "datalore":{
     "node_id":"P3FrpXVUncOmi8cKzY6Tz1",
     "type":"CODE",
     "hide_input_from_viewers":false,
     "hide_output_from_viewers":true,
     "report_properties":{
      "rowId":"KISpBCmf3S4SCS6c72fqwK",
      "relativeY":0
     }
    }
   }
  },
  {
   "cell_type":"code",
   "source":[
    "df"
   ],
   "execution_count":4,
   "outputs":[
    {
     "data":{
      "text\/html":[
       "<div>\n",
       "<style scoped>\n",
       "    .dataframe tbody tr th:only-of-type {\n",
       "        vertical-align: middle;\n",
       "    }\n",
       "\n",
       "    .dataframe tbody tr th {\n",
       "        vertical-align: top;\n",
       "    }\n",
       "\n",
       "    .dataframe thead th {\n",
       "        text-align: right;\n",
       "    }\n",
       "<\/style>\n",
       "<table border=\"1\" class=\"dataframe\">\n",
       "  <thead>\n",
       "    <tr style=\"text-align: right;\">\n",
       "      <th><\/th>\n",
       "      <th>Date<\/th>\n",
       "      <th>Username<\/th>\n",
       "      <th>User tag<\/th>\n",
       "      <th>Content<\/th>\n",
       "      <th>Mentions<\/th>\n",
       "      <th>link<\/th>\n",
       "    <\/tr>\n",
       "  <\/thead>\n",
       "  <tbody>\n",
       "    <tr>\n",
       "      <th>0<\/th>\n",
       "      <td>2023-01-13,12:37:44<\/td>\n",
       "      <td>bougaa<\/td>\n",
       "      <td>#0<\/td>\n",
       "      <td>Anybody here with cloud experience? and or wor...<\/td>\n",
       "      <td>NaN<\/td>\n",
       "      <td>NaN<\/td>\n",
       "    <\/tr>\n",
       "    <tr>\n",
       "      <th>1<\/th>\n",
       "      <td>2023-01-13,15:45:12<\/td>\n",
       "      <td>\"Eyad Abou Ker[IGT]+[CDH]\"<\/td>\n",
       "      <td>#1826<\/td>\n",
       "      <td>Hi anyone here with good knowledge in HTML CSS...<\/td>\n",
       "      <td>NaN<\/td>\n",
       "      <td>NaN<\/td>\n",
       "    <\/tr>\n",
       "    <tr>\n",
       "      <th>2<\/th>\n",
       "      <td>2023-01-13,17:15:41<\/td>\n",
       "      <td>felixfelixfelix<\/td>\n",
       "      <td>#5119<\/td>\n",
       "      <td>We're a team mainly comprised of data scientis...<\/td>\n",
       "      <td>NaN<\/td>\n",
       "      <td>NaN<\/td>\n",
       "    <\/tr>\n",
       "    <tr>\n",
       "      <th>3<\/th>\n",
       "      <td>2023-01-13,19:30:59<\/td>\n",
       "      <td>DankDora<\/td>\n",
       "      <td>#3469<\/td>\n",
       "      <td>Hello! Looking for 2 more members! I’m a stude...<\/td>\n",
       "      <td>NaN<\/td>\n",
       "      <td>NaN<\/td>\n",
       "    <\/tr>\n",
       "    <tr>\n",
       "      <th>4<\/th>\n",
       "      <td>2023-01-13,21:40:58<\/td>\n",
       "      <td>roco5marco<\/td>\n",
       "      <td>#0<\/td>\n",
       "      <td>Hey guys! I'm a first year software engineerin...<\/td>\n",
       "      <td>NaN<\/td>\n",
       "      <td>NaN<\/td>\n",
       "    <\/tr>\n",
       "    <tr>\n",
       "      <th>...<\/th>\n",
       "      <td>...<\/td>\n",
       "      <td>...<\/td>\n",
       "      <td>...<\/td>\n",
       "      <td>...<\/td>\n",
       "      <td>...<\/td>\n",
       "      <td>...<\/td>\n",
       "    <\/tr>\n",
       "    <tr>\n",
       "      <th>158<\/th>\n",
       "      <td>2023-01-22,15:02:27<\/td>\n",
       "      <td>al3x7643<\/td>\n",
       "      <td>#0<\/td>\n",
       "      <td>Who?<\/td>\n",
       "      <td>NaN<\/td>\n",
       "      <td>NaN<\/td>\n",
       "    <\/tr>\n",
       "    <tr>\n",
       "      <th>159<\/th>\n",
       "      <td>2023-01-22,16:48:47<\/td>\n",
       "      <td>Darkok<\/td>\n",
       "      <td>#9818<\/td>\n",
       "      <td>Am down for some unpaid internship I only have...<\/td>\n",
       "      <td>yusufr#0<\/td>\n",
       "      <td>NaN<\/td>\n",
       "    <\/tr>\n",
       "    <tr>\n",
       "      <th>160<\/th>\n",
       "      <td>2023-01-22,16:49:38<\/td>\n",
       "      <td>yusufr<\/td>\n",
       "      <td>#0<\/td>\n",
       "      <td>Sorry, your qualifications are insufficient fo...<\/td>\n",
       "      <td>Darkok#9818<\/td>\n",
       "      <td>NaN<\/td>\n",
       "    <\/tr>\n",
       "    <tr>\n",
       "      <th>161<\/th>\n",
       "      <td>2023-01-22,16:52:33<\/td>\n",
       "      <td>Darkok<\/td>\n",
       "      <td>#9818<\/td>\n",
       "      <td>I forgot to mention that am currently trying t...<\/td>\n",
       "      <td>yusufr#0<\/td>\n",
       "      <td>NaN<\/td>\n",
       "    <\/tr>\n",
       "    <tr>\n",
       "      <th>162<\/th>\n",
       "      <td>2023-01-22,16:53:19<\/td>\n",
       "      <td>yusufr<\/td>\n",
       "      <td>#0<\/td>\n",
       "      <td>Unfortunately, you need to be able to build AI...<\/td>\n",
       "      <td>Darkok#9818<\/td>\n",
       "      <td>NaN<\/td>\n",
       "    <\/tr>\n",
       "  <\/tbody>\n",
       "<\/table>\n",
       "<p>163 rows × 6 columns<\/p>\n",
       "<\/div>"
      ]
     },
     "metadata":{
      
     },
     "output_type":"display_data"
    }
   ],
   "metadata":{
    "datalore":{
     "node_id":"Z7tv31zFwhWPlo7wC1f2zC",
     "type":"CODE",
     "hide_input_from_viewers":false,
     "hide_output_from_viewers":false,
     "report_properties":{
      "rowId":"pGuUsR5HndF9vOb6eotLuI",
      "relativeY":0
     }
    }
   }
  },
  {
   "cell_type":"code",
   "source":[
    "df_copy=df"
   ],
   "execution_count":5,
   "outputs":[
    
   ],
   "metadata":{
    "datalore":{
     "node_id":"PeC23cvR5asncIAEmKlW4C",
     "type":"CODE",
     "hide_input_from_viewers":false,
     "hide_output_from_viewers":true,
     "report_properties":{
      "rowId":"jjen1Wx4xuKczd939feS5I",
      "relativeY":0
     }
    }
   }
  },
  {
   "cell_type":"code",
   "source":[
    "df_copy[\"Content\"]=df_copy[\"Content\"].apply(clean)\n",
    "df_copy"
   ],
   "execution_count":6,
   "outputs":[
    {
     "ename":"NameError",
     "evalue":"NameError: name 'clean' is not defined",
     "traceback":[
      "\u001b[0;31m---------------------------------------------------------------------------",
      "Traceback (most recent call last)",
      "    at line 1 in <module>",
      "NameError: name 'clean' is not defined"
     ],
     "output_type":"error"
    }
   ],
   "metadata":{
    "datalore":{
     "node_id":"F8Tvl7XjitQK4936UNqN0F",
     "type":"CODE",
     "hide_input_from_viewers":true,
     "hide_output_from_viewers":true
    }
   }
  },
  {
   "cell_type":"code",
   "source":[
    "df_copy[\"Content\"]"
   ],
   "execution_count":7,
   "outputs":[
    {
     "data":{
      "text\/html":[
       "<pre>0      Anybody here with cloud experience? and or wor...\n",
       "1      Hi anyone here with good knowledge in HTML CSS...\n",
       "2      We're a team mainly comprised of data scientis...\n",
       "3      Hello! Looking for 2 more members! I’m a stude...\n",
       "4      Hey guys! I'm a first year software engineerin...\n",
       "                             ...                        \n",
       "158                                                 Who?\n",
       "159    Am down for some unpaid internship I only have...\n",
       "160    Sorry, your qualifications are insufficient fo...\n",
       "161    I forgot to mention that am currently trying t...\n",
       "162    Unfortunately, you need to be able to build AI...\n",
       "Name: Content, Length: 163, dtype: object<\/pre>"
      ]
     },
     "metadata":{
      
     },
     "output_type":"display_data"
    }
   ],
   "metadata":{
    "datalore":{
     "node_id":"tgU2t91YIQLxTauI6DhzM5",
     "type":"CODE",
     "hide_input_from_viewers":true,
     "hide_output_from_viewers":false,
     "report_properties":{
      "rowId":"pN4AYQ0daLfndwXOKRIdE1",
      "relativeY":0
     }
    }
   }
  },
  {
   "cell_type":"code",
   "source":[
    "\n",
    "nltk.download('stopwords')\n",
    "nltk.download('punkt')\n",
    "def clean(content):\n",
    "    #Clear bracketed texts\n",
    "    content=re.sub(r'<[^>]*>','',content)\n",
    "    #Remove url\n",
    "    content = re.sub(r'http\\S+', 'URL', content)\n",
    "    #Clear punctuations\n",
    "    content = re.sub(r'[^\\w\\s]+', ' ', content)\n",
    "    #remove extra spaces\n",
    "    content = ' '.join(content.lower().split())\n",
    "\n",
    "    return content\n"
   ],
   "execution_count":8,
   "outputs":[
    {
     "name":"stderr",
     "text":[
      "[nltk_data] Downloading package stopwords to\n",
      "[nltk_data]     \/home\/datalore\/nltk_data...\n",
      "[nltk_data]   Unzipping corpora\/stopwords.zip.\n",
      "[nltk_data] Downloading package punkt to \/home\/datalore\/nltk_data...\n",
      "[nltk_data]   Unzipping tokenizers\/punkt.zip.\n"
     ],
     "output_type":"stream"
    }
   ],
   "metadata":{
    "datalore":{
     "node_id":"lNAlUKuupyJu48codeU2de",
     "type":"CODE",
     "hide_input_from_viewers":false,
     "hide_output_from_viewers":true,
     "report_properties":{
      "rowId":"yEN69nnxcQ5ovDn8miKRU6",
      "relativeY":0
     }
    }
   }
  },
  {
   "cell_type":"code",
   "source":[
    "#test\n",
    "example1=\"<@756516000454672487> hi brahim:) , Here 🙂 are some of my projects: https:\/\/www.linkedin.com\/in\/brahim-hamid-oudjana-35023a123\/i <sdskhd> sent??... you a dm!!\"\n",
    "cleaned_example1=clean(example1)"
   ],
   "execution_count":9,
   "outputs":[
    
   ],
   "metadata":{
    "datalore":{
     "node_id":"6lYJh3OLukprCzEL1d3bY5",
     "type":"CODE",
     "hide_input_from_viewers":true,
     "hide_output_from_viewers":true,
     "report_properties":{
      "rowId":"FNyyar9BLY6ZLl7Tjnarzu"
     }
    }
   }
  },
  {
   "cell_type":"code",
   "source":[
    "df_copy[\"Content\"]=df_copy[\"Content\"].apply(clean)\n",
    "df_copy"
   ],
   "execution_count":10,
   "outputs":[
    {
     "data":{
      "text\/html":[
       "<div>\n",
       "<style scoped>\n",
       "    .dataframe tbody tr th:only-of-type {\n",
       "        vertical-align: middle;\n",
       "    }\n",
       "\n",
       "    .dataframe tbody tr th {\n",
       "        vertical-align: top;\n",
       "    }\n",
       "\n",
       "    .dataframe thead th {\n",
       "        text-align: right;\n",
       "    }\n",
       "<\/style>\n",
       "<table border=\"1\" class=\"dataframe\">\n",
       "  <thead>\n",
       "    <tr style=\"text-align: right;\">\n",
       "      <th><\/th>\n",
       "      <th>Date<\/th>\n",
       "      <th>Username<\/th>\n",
       "      <th>User tag<\/th>\n",
       "      <th>Content<\/th>\n",
       "      <th>Mentions<\/th>\n",
       "      <th>link<\/th>\n",
       "    <\/tr>\n",
       "  <\/thead>\n",
       "  <tbody>\n",
       "    <tr>\n",
       "      <th>0<\/th>\n",
       "      <td>2023-01-13,12:37:44<\/td>\n",
       "      <td>bougaa<\/td>\n",
       "      <td>#0<\/td>\n",
       "      <td>anybody here with cloud experience and or work...<\/td>\n",
       "      <td>NaN<\/td>\n",
       "      <td>NaN<\/td>\n",
       "    <\/tr>\n",
       "    <tr>\n",
       "      <th>1<\/th>\n",
       "      <td>2023-01-13,15:45:12<\/td>\n",
       "      <td>\"Eyad Abou Ker[IGT]+[CDH]\"<\/td>\n",
       "      <td>#1826<\/td>\n",
       "      <td>hi anyone here with good knowledge in html css...<\/td>\n",
       "      <td>NaN<\/td>\n",
       "      <td>NaN<\/td>\n",
       "    <\/tr>\n",
       "    <tr>\n",
       "      <th>2<\/th>\n",
       "      <td>2023-01-13,17:15:41<\/td>\n",
       "      <td>felixfelixfelix<\/td>\n",
       "      <td>#5119<\/td>\n",
       "      <td>we re a team mainly comprised of data scientis...<\/td>\n",
       "      <td>NaN<\/td>\n",
       "      <td>NaN<\/td>\n",
       "    <\/tr>\n",
       "    <tr>\n",
       "      <th>3<\/th>\n",
       "      <td>2023-01-13,19:30:59<\/td>\n",
       "      <td>DankDora<\/td>\n",
       "      <td>#3469<\/td>\n",
       "      <td>hello looking for 2 more members i m a student...<\/td>\n",
       "      <td>NaN<\/td>\n",
       "      <td>NaN<\/td>\n",
       "    <\/tr>\n",
       "    <tr>\n",
       "      <th>4<\/th>\n",
       "      <td>2023-01-13,21:40:58<\/td>\n",
       "      <td>roco5marco<\/td>\n",
       "      <td>#0<\/td>\n",
       "      <td>hey guys i m a first year software engineering...<\/td>\n",
       "      <td>NaN<\/td>\n",
       "      <td>NaN<\/td>\n",
       "    <\/tr>\n",
       "    <tr>\n",
       "      <th>...<\/th>\n",
       "      <td>...<\/td>\n",
       "      <td>...<\/td>\n",
       "      <td>...<\/td>\n",
       "      <td>...<\/td>\n",
       "      <td>...<\/td>\n",
       "      <td>...<\/td>\n",
       "    <\/tr>\n",
       "    <tr>\n",
       "      <th>158<\/th>\n",
       "      <td>2023-01-22,15:02:27<\/td>\n",
       "      <td>al3x7643<\/td>\n",
       "      <td>#0<\/td>\n",
       "      <td>who<\/td>\n",
       "      <td>NaN<\/td>\n",
       "      <td>NaN<\/td>\n",
       "    <\/tr>\n",
       "    <tr>\n",
       "      <th>159<\/th>\n",
       "      <td>2023-01-22,16:48:47<\/td>\n",
       "      <td>Darkok<\/td>\n",
       "      <td>#9818<\/td>\n",
       "      <td>am down for some unpaid internship i only have...<\/td>\n",
       "      <td>yusufr#0<\/td>\n",
       "      <td>NaN<\/td>\n",
       "    <\/tr>\n",
       "    <tr>\n",
       "      <th>160<\/th>\n",
       "      <td>2023-01-22,16:49:38<\/td>\n",
       "      <td>yusufr<\/td>\n",
       "      <td>#0<\/td>\n",
       "      <td>sorry your qualifications are insufficient for...<\/td>\n",
       "      <td>Darkok#9818<\/td>\n",
       "      <td>NaN<\/td>\n",
       "    <\/tr>\n",
       "    <tr>\n",
       "      <th>161<\/th>\n",
       "      <td>2023-01-22,16:52:33<\/td>\n",
       "      <td>Darkok<\/td>\n",
       "      <td>#9818<\/td>\n",
       "      <td>i forgot to mention that am currently trying t...<\/td>\n",
       "      <td>yusufr#0<\/td>\n",
       "      <td>NaN<\/td>\n",
       "    <\/tr>\n",
       "    <tr>\n",
       "      <th>162<\/th>\n",
       "      <td>2023-01-22,16:53:19<\/td>\n",
       "      <td>yusufr<\/td>\n",
       "      <td>#0<\/td>\n",
       "      <td>unfortunately you need to be able to build ai ...<\/td>\n",
       "      <td>Darkok#9818<\/td>\n",
       "      <td>NaN<\/td>\n",
       "    <\/tr>\n",
       "  <\/tbody>\n",
       "<\/table>\n",
       "<p>163 rows × 6 columns<\/p>\n",
       "<\/div>"
      ]
     },
     "metadata":{
      
     },
     "output_type":"display_data"
    }
   ],
   "metadata":{
    "datalore":{
     "node_id":"gkFpOHqtIqn5aB3sEIinKL",
     "type":"CODE",
     "hide_input_from_viewers":false,
     "hide_output_from_viewers":false,
     "report_properties":{
      "rowId":"AJUXnbpNJ9LybJ9jH8XFhc",
      "relativeY":0
     }
    }
   }
  },
  {
   "cell_type":"code",
   "source":[
    "\n",
    "def tokenise_chat(chat_text):\n",
    "    # Tokenize text\n",
    "    tokens = word_tokenize(chat_text)\n",
    "    # Remove stopwords\n",
    "    stopwords_list = set(stopwords.words('english'))\n",
    "    tokens = [word for word in tokens if word not in stopwords_list]\n",
    "    return tokens"
   ],
   "execution_count":12,
   "outputs":[
    
   ],
   "metadata":{
    "datalore":{
     "node_id":"J9oP6NVYCJr5so6MSmlPYG",
     "type":"CODE",
     "hide_input_from_viewers":false,
     "hide_output_from_viewers":true,
     "report_properties":{
      "rowId":"0Cn3jf4Ofrr91HBBrMHcdZ",
      "relativeY":0
     }
    }
   }
  },
  {
   "cell_type":"code",
   "source":[
    "df_copy[\"Content\"]=df_copy[\"Content\"].apply(tokenise_chat)"
   ],
   "execution_count":13,
   "outputs":[
    
   ],
   "metadata":{
    "datalore":{
     "node_id":"CDRiNyeRAHIuOWr6XWvqOR",
     "type":"CODE",
     "hide_input_from_viewers":false,
     "hide_output_from_viewers":true,
     "report_properties":{
      "rowId":"zb2FmLNzg4UtB7tfdbU8Ep",
      "relativeY":0
     }
    }
   }
  },
  {
   "cell_type":"code",
   "source":[
    "front_end=[\"html\",\"css\",\"javascript\",\"react\",\"typescript\",\"mern\",\"js\",\"node\",\"ts\",\"swift\",\"android\",\"wix\"]\n",
    "back_end=[\"python\",\"java\",\"c\",\"asp\",\"c++\",\"sql\",\"database\",\"flask\",\"node\",\"php\",\"ml\",\"machine\",\"nlp\",\"mongodb\",\"mongo\",\"solidity\",\"aws\",\"cloud\",\"azure\",\"mern\"]"
   ],
   "execution_count":14,
   "outputs":[
    
   ],
   "metadata":{
    "datalore":{
     "node_id":"EDUAatI7eRJUsgLubb9BIT",
     "type":"CODE",
     "hide_input_from_viewers":false,
     "hide_output_from_viewers":true,
     "report_properties":{
      "rowId":"8iKMeoZq2DKYBKNasQHGcL",
      "relativeY":0
     }
    }
   }
  },
  {
   "cell_type":"code",
   "source":[
    "df_copy[\"Content\"]"
   ],
   "execution_count":15,
   "outputs":[
    {
     "data":{
      "text\/html":[
       "<pre>0      [anybody, cloud, experience, worked, mysql, py...\n",
       "1      [hi, anyone, good, knowledge, html, css, js, t...\n",
       "2      [team, mainly, comprised, data, scientists, 2,...\n",
       "3      [hello, looking, 2, members, student, mechanic...\n",
       "4      [hey, guys, first, year, software, engineering...\n",
       "                             ...                        \n",
       "158                                                   []\n",
       "159    [unpaid, internship, 13, years, experience, fa...\n",
       "160    [sorry, qualifications, insufficient, entry, l...\n",
       "161    [forgot, mention, currently, trying, build, ai...\n",
       "162    [unfortunately, need, able, build, ai, blockch...\n",
       "Name: Content, Length: 163, dtype: object<\/pre>"
      ]
     },
     "metadata":{
      
     },
     "output_type":"display_data"
    }
   ],
   "metadata":{
    "datalore":{
     "node_id":"cG2edJaJD4Y73H4YYhdEnG",
     "type":"CODE",
     "hide_input_from_viewers":true,
     "hide_output_from_viewers":false,
     "report_properties":{
      "rowId":"5LAuXJrd5VjdENHNbHAGWb",
      "relativeY":0
     }
    }
   }
  },
  {
   "cell_type":"code",
   "source":[
    "def label_skills(content):\n",
    "    skills=[]\n",
    "    marker=\"\"\n",
    "    flag=True\n",
    "    for token in content:\n",
    "        if token in front_end:\n",
    "            skills.append(token)\n",
    "        elif token in back_end:\n",
    "            skills.append(token)\n",
    "        else:\n",
    "            continue\n",
    "    unique_list = list(set(skills))\n",
    "    for skill in unique_list:\n",
    "        if skill in front_end and flag:\n",
    "            marker=\"frontend\"\n",
    "            flag=!flag\n",
    "        elif skill in back_end and flag:\n",
    "            marker=\"backend\"\n",
    "            flag=!flag\n",
    "        elif flag==False and len(marker)>0:\n",
    "            marker=\"fullstack\"\n",
    "        else:\n",
    "            break\n",
    "    return marker\n"
   ],
   "execution_count":16,
   "outputs":[
    
   ],
   "metadata":{
    "datalore":{
     "node_id":"QSS0831wG4Kecw0Dq2GWOk",
     "type":"CODE",
     "hide_input_from_viewers":false,
     "hide_output_from_viewers":true,
     "report_properties":{
      "rowId":"w3bdQCQ3WrOjCmieCP5bWn",
      "relativeY":0
     }
    }
   }
  },
  {
   "cell_type":"code",
   "source":[
    "df_marker=df_copy[\"User tag\"]\n",
    "df_copy[\"stack\"]=df_copy[\"Content\"].apply(label_skills)"
   ],
   "execution_count":19,
   "outputs":[
    
   ],
   "metadata":{
    "datalore":{
     "node_id":"zqjIcFjXcsc3lm0gnwlCvG",
     "type":"CODE",
     "hide_input_from_viewers":false,
     "hide_output_from_viewers":true,
     "report_properties":{
      "rowId":"K63RhQGOMPnXNiea2WdUxJ",
      "relativeY":0
     }
    }
   }
  },
  {
   "cell_type":"code",
   "source":[
    "df_marker=df_copy[[\"Username\",\"stack\"]]\n",
    "value_to_drop = \"\"\n",
    "df_marker = df_marker[df_marker['stack'] != value_to_drop]\n",
    "df_marker"
   ],
   "execution_count":20,
   "outputs":[
    {
     "data":{
      "text\/html":[
       "<div>\n",
       "<style scoped>\n",
       "    .dataframe tbody tr th:only-of-type {\n",
       "        vertical-align: middle;\n",
       "    }\n",
       "\n",
       "    .dataframe tbody tr th {\n",
       "        vertical-align: top;\n",
       "    }\n",
       "\n",
       "    .dataframe thead th {\n",
       "        text-align: right;\n",
       "    }\n",
       "<\/style>\n",
       "<table border=\"1\" class=\"dataframe\">\n",
       "  <thead>\n",
       "    <tr style=\"text-align: right;\">\n",
       "      <th><\/th>\n",
       "      <th>Username<\/th>\n",
       "      <th>stack<\/th>\n",
       "    <\/tr>\n",
       "  <\/thead>\n",
       "  <tbody>\n",
       "    <tr>\n",
       "      <th>0<\/th>\n",
       "      <td>bougaa<\/td>\n",
       "      <td>backend<\/td>\n",
       "    <\/tr>\n",
       "    <tr>\n",
       "      <th>1<\/th>\n",
       "      <td>\"Eyad Abou Ker[IGT]+[CDH]\"<\/td>\n",
       "      <td>frontend<\/td>\n",
       "    <\/tr>\n",
       "    <tr>\n",
       "      <th>3<\/th>\n",
       "      <td>DankDora<\/td>\n",
       "      <td>backend<\/td>\n",
       "    <\/tr>\n",
       "    <tr>\n",
       "      <th>4<\/th>\n",
       "      <td>roco5marco<\/td>\n",
       "      <td>backend<\/td>\n",
       "    <\/tr>\n",
       "    <tr>\n",
       "      <th>9<\/th>\n",
       "      <td>deeppomal<\/td>\n",
       "      <td>frontend<\/td>\n",
       "    <\/tr>\n",
       "    <tr>\n",
       "      <th>...<\/th>\n",
       "      <td>...<\/td>\n",
       "      <td>...<\/td>\n",
       "    <\/tr>\n",
       "    <tr>\n",
       "      <th>137<\/th>\n",
       "      <td>vikingcanadian<\/td>\n",
       "      <td>backend<\/td>\n",
       "    <\/tr>\n",
       "    <tr>\n",
       "      <th>139<\/th>\n",
       "      <td>mediumchad<\/td>\n",
       "      <td>backend<\/td>\n",
       "    <\/tr>\n",
       "    <tr>\n",
       "      <th>140<\/th>\n",
       "      <td>\"Eyad Abou Ker[IGT]+[CDH]\"<\/td>\n",
       "      <td>frontend<\/td>\n",
       "    <\/tr>\n",
       "    <tr>\n",
       "      <th>148<\/th>\n",
       "      <td>sherlockholmes777<\/td>\n",
       "      <td>frontend<\/td>\n",
       "    <\/tr>\n",
       "    <tr>\n",
       "      <th>161<\/th>\n",
       "      <td>Darkok<\/td>\n",
       "      <td>backend<\/td>\n",
       "    <\/tr>\n",
       "  <\/tbody>\n",
       "<\/table>\n",
       "<p>94 rows × 2 columns<\/p>\n",
       "<\/div>"
      ]
     },
     "metadata":{
      
     },
     "output_type":"display_data"
    }
   ],
   "metadata":{
    "datalore":{
     "node_id":"aG6yDkluAHEFjYv234rTJw",
     "type":"CODE",
     "hide_input_from_viewers":false,
     "hide_output_from_viewers":false,
     "report_properties":{
      "rowId":"IYdAtWzWWv6PqTVsMjhofU",
      "relativeY":0
     }
    }
   }
  },
  {
   "cell_type":"code",
   "source":[
    "reduced_dataframe=df_marker.iloc[:20]\n",
    "reduced_dataframe"
   ],
   "execution_count":21,
   "outputs":[
    {
     "data":{
      "text\/html":[
       "<div>\n",
       "<style scoped>\n",
       "    .dataframe tbody tr th:only-of-type {\n",
       "        vertical-align: middle;\n",
       "    }\n",
       "\n",
       "    .dataframe tbody tr th {\n",
       "        vertical-align: top;\n",
       "    }\n",
       "\n",
       "    .dataframe thead th {\n",
       "        text-align: right;\n",
       "    }\n",
       "<\/style>\n",
       "<table border=\"1\" class=\"dataframe\">\n",
       "  <thead>\n",
       "    <tr style=\"text-align: right;\">\n",
       "      <th><\/th>\n",
       "      <th>Username<\/th>\n",
       "      <th>stack<\/th>\n",
       "    <\/tr>\n",
       "  <\/thead>\n",
       "  <tbody>\n",
       "    <tr>\n",
       "      <th>0<\/th>\n",
       "      <td>bougaa<\/td>\n",
       "      <td>backend<\/td>\n",
       "    <\/tr>\n",
       "    <tr>\n",
       "      <th>1<\/th>\n",
       "      <td>\"Eyad Abou Ker[IGT]+[CDH]\"<\/td>\n",
       "      <td>frontend<\/td>\n",
       "    <\/tr>\n",
       "    <tr>\n",
       "      <th>3<\/th>\n",
       "      <td>DankDora<\/td>\n",
       "      <td>backend<\/td>\n",
       "    <\/tr>\n",
       "    <tr>\n",
       "      <th>4<\/th>\n",
       "      <td>roco5marco<\/td>\n",
       "      <td>backend<\/td>\n",
       "    <\/tr>\n",
       "    <tr>\n",
       "      <th>9<\/th>\n",
       "      <td>deeppomal<\/td>\n",
       "      <td>frontend<\/td>\n",
       "    <\/tr>\n",
       "    <tr>\n",
       "      <th>10<\/th>\n",
       "      <td>TW<\/td>\n",
       "      <td>backend<\/td>\n",
       "    <\/tr>\n",
       "    <tr>\n",
       "      <th>11<\/th>\n",
       "      <td>yusufr<\/td>\n",
       "      <td>backend<\/td>\n",
       "    <\/tr>\n",
       "    <tr>\n",
       "      <th>12<\/th>\n",
       "      <td>10retr066<\/td>\n",
       "      <td>backend<\/td>\n",
       "    <\/tr>\n",
       "    <tr>\n",
       "      <th>13<\/th>\n",
       "      <td>Shrawan<\/td>\n",
       "      <td>backend<\/td>\n",
       "    <\/tr>\n",
       "    <tr>\n",
       "      <th>14<\/th>\n",
       "      <td>itspennybags<\/td>\n",
       "      <td>frontend<\/td>\n",
       "    <\/tr>\n",
       "    <tr>\n",
       "      <th>15<\/th>\n",
       "      <td>babibbibab<\/td>\n",
       "      <td>frontend<\/td>\n",
       "    <\/tr>\n",
       "    <tr>\n",
       "      <th>16<\/th>\n",
       "      <td>bigfishi<\/td>\n",
       "      <td>backend<\/td>\n",
       "    <\/tr>\n",
       "    <tr>\n",
       "      <th>17<\/th>\n",
       "      <td>ayaan6377<\/td>\n",
       "      <td>backend<\/td>\n",
       "    <\/tr>\n",
       "    <tr>\n",
       "      <th>18<\/th>\n",
       "      <td>_sylent<\/td>\n",
       "      <td>backend<\/td>\n",
       "    <\/tr>\n",
       "    <tr>\n",
       "      <th>19<\/th>\n",
       "      <td>kirrbz<\/td>\n",
       "      <td>frontend<\/td>\n",
       "    <\/tr>\n",
       "    <tr>\n",
       "      <th>20<\/th>\n",
       "      <td>mafuckinstarboy<\/td>\n",
       "      <td>backend<\/td>\n",
       "    <\/tr>\n",
       "    <tr>\n",
       "      <th>22<\/th>\n",
       "      <td>nibxll<\/td>\n",
       "      <td>backend<\/td>\n",
       "    <\/tr>\n",
       "    <tr>\n",
       "      <th>23<\/th>\n",
       "      <td>dankestjeans85<\/td>\n",
       "      <td>backend<\/td>\n",
       "    <\/tr>\n",
       "    <tr>\n",
       "      <th>26<\/th>\n",
       "      <td>cocojambo76<\/td>\n",
       "      <td>backend<\/td>\n",
       "    <\/tr>\n",
       "    <tr>\n",
       "      <th>27<\/th>\n",
       "      <td>thekarma123<\/td>\n",
       "      <td>backend<\/td>\n",
       "    <\/tr>\n",
       "  <\/tbody>\n",
       "<\/table>\n",
       "<\/div>"
      ]
     },
     "metadata":{
      
     },
     "output_type":"display_data"
    }
   ],
   "metadata":{
    "datalore":{
     "node_id":"mKIgsBibMeck1dnVBBIAmY",
     "type":"CODE",
     "hide_input_from_viewers":false,
     "hide_output_from_viewers":false,
     "report_properties":{
      "rowId":"CoenWuiOy6yp4DQqKRzSeA",
      "relativeY":0
     }
    }
   }
  },
  {
   "cell_type":"code",
   "source":[
    "#DEMO\n",
    "intro=\"Hi My name is Swagat. I have some experience with React and javascript. Looking for teammates to hack.\""
   ],
   "execution_count":23,
   "outputs":[
    
   ],
   "metadata":{
    "datalore":{
     "node_id":"nXV36iOVcsCqO29VAdHdAP",
     "type":"CODE",
     "hide_input_from_viewers":false,
     "hide_output_from_viewers":true,
     "report_properties":{
      "rowId":"qBB3lRyViZh8FVwHdh8EUt",
      "relativeY":0
     }
    }
   }
  },
  {
   "cell_type":"code",
   "source":[
    "#Backend Processing\n",
    "Label=label_skills(tokenise_chat(intro))\n",
    "print(Label)\n",
    "matches=reduced_dataframe[reduced_dataframe['stack'] !=Label ]\n",
    "matches"
   ],
   "execution_count":31,
   "outputs":[
    {
     "name":"stdout",
     "text":[
      "frontend\n"
     ],
     "output_type":"stream"
    },
    {
     "data":{
      "text\/html":[
       "<div>\n",
       "<style scoped>\n",
       "    .dataframe tbody tr th:only-of-type {\n",
       "        vertical-align: middle;\n",
       "    }\n",
       "\n",
       "    .dataframe tbody tr th {\n",
       "        vertical-align: top;\n",
       "    }\n",
       "\n",
       "    .dataframe thead th {\n",
       "        text-align: right;\n",
       "    }\n",
       "<\/style>\n",
       "<table border=\"1\" class=\"dataframe\">\n",
       "  <thead>\n",
       "    <tr style=\"text-align: right;\">\n",
       "      <th><\/th>\n",
       "      <th>Username<\/th>\n",
       "      <th>stack<\/th>\n",
       "    <\/tr>\n",
       "  <\/thead>\n",
       "  <tbody>\n",
       "    <tr>\n",
       "      <th>0<\/th>\n",
       "      <td>bougaa<\/td>\n",
       "      <td>backend<\/td>\n",
       "    <\/tr>\n",
       "    <tr>\n",
       "      <th>3<\/th>\n",
       "      <td>DankDora<\/td>\n",
       "      <td>backend<\/td>\n",
       "    <\/tr>\n",
       "    <tr>\n",
       "      <th>4<\/th>\n",
       "      <td>roco5marco<\/td>\n",
       "      <td>backend<\/td>\n",
       "    <\/tr>\n",
       "    <tr>\n",
       "      <th>10<\/th>\n",
       "      <td>TW<\/td>\n",
       "      <td>backend<\/td>\n",
       "    <\/tr>\n",
       "    <tr>\n",
       "      <th>11<\/th>\n",
       "      <td>yusufr<\/td>\n",
       "      <td>backend<\/td>\n",
       "    <\/tr>\n",
       "    <tr>\n",
       "      <th>12<\/th>\n",
       "      <td>10retr066<\/td>\n",
       "      <td>backend<\/td>\n",
       "    <\/tr>\n",
       "    <tr>\n",
       "      <th>13<\/th>\n",
       "      <td>Shrawan<\/td>\n",
       "      <td>backend<\/td>\n",
       "    <\/tr>\n",
       "    <tr>\n",
       "      <th>16<\/th>\n",
       "      <td>bigfishi<\/td>\n",
       "      <td>backend<\/td>\n",
       "    <\/tr>\n",
       "    <tr>\n",
       "      <th>17<\/th>\n",
       "      <td>ayaan6377<\/td>\n",
       "      <td>backend<\/td>\n",
       "    <\/tr>\n",
       "    <tr>\n",
       "      <th>18<\/th>\n",
       "      <td>_sylent<\/td>\n",
       "      <td>backend<\/td>\n",
       "    <\/tr>\n",
       "    <tr>\n",
       "      <th>20<\/th>\n",
       "      <td>mafuckinstarboy<\/td>\n",
       "      <td>backend<\/td>\n",
       "    <\/tr>\n",
       "    <tr>\n",
       "      <th>22<\/th>\n",
       "      <td>nibxll<\/td>\n",
       "      <td>backend<\/td>\n",
       "    <\/tr>\n",
       "    <tr>\n",
       "      <th>23<\/th>\n",
       "      <td>dankestjeans85<\/td>\n",
       "      <td>backend<\/td>\n",
       "    <\/tr>\n",
       "    <tr>\n",
       "      <th>26<\/th>\n",
       "      <td>cocojambo76<\/td>\n",
       "      <td>backend<\/td>\n",
       "    <\/tr>\n",
       "    <tr>\n",
       "      <th>27<\/th>\n",
       "      <td>thekarma123<\/td>\n",
       "      <td>backend<\/td>\n",
       "    <\/tr>\n",
       "  <\/tbody>\n",
       "<\/table>\n",
       "<\/div>"
      ]
     },
     "metadata":{
      
     },
     "output_type":"display_data"
    }
   ],
   "metadata":{
    "datalore":{
     "node_id":"dIOsztF0YGfJ5ebXCU2PL6",
     "type":"CODE",
     "hide_input_from_viewers":false,
     "hide_output_from_viewers":false,
     "report_properties":{
      "rowId":"wPQM6sDQgNCAC8Aat2BM3z",
      "relativeY":0
     }
    }
   }
  }
 ],
 "metadata":{
  "kernelspec":{
   "display_name":"Python",
   "language":"python",
   "name":"python"
  },
  "datalore":{
   "computation_mode":"JUPYTER",
   "package_manager":"pip",
   "base_environment":"default",
   "packages":[
    
   ],
   "report_row_ids":[
    "pXIjVtmBR51MYFbmwhpEAl",
    "9Ratd3wJ8RKlehxHWLIODh",
    "KISpBCmf3S4SCS6c72fqwK",
    "pGuUsR5HndF9vOb6eotLuI",
    "jjen1Wx4xuKczd939feS5I",
    "pN4AYQ0daLfndwXOKRIdE1",
    "yEN69nnxcQ5ovDn8miKRU6",
    "AJUXnbpNJ9LybJ9jH8XFhc",
    "0Cn3jf4Ofrr91HBBrMHcdZ",
    "zb2FmLNzg4UtB7tfdbU8Ep",
    "8iKMeoZq2DKYBKNasQHGcL",
    "5LAuXJrd5VjdENHNbHAGWb",
    "w3bdQCQ3WrOjCmieCP5bWn",
    "K63RhQGOMPnXNiea2WdUxJ",
    "IYdAtWzWWv6PqTVsMjhofU",
    "CoenWuiOy6yp4DQqKRzSeA",
    "qBB3lRyViZh8FVwHdh8EUt",
    "wPQM6sDQgNCAC8Aat2BM3z"
   ],
   "version":3
  }
 },
 "nbformat":4,
 "nbformat_minor":4
}